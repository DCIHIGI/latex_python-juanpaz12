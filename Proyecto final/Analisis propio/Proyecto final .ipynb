{
 "cells": [
  {
   "cell_type": "markdown",
   "id": "3ee811e1",
   "metadata": {},
   "source": [
    "# Análisis de datos, jugadores de futbol Estados Unidos vs México"
   ]
  },
  {
   "cell_type": "code",
   "execution_count": 2,
   "id": "962214fb",
   "metadata": {},
   "outputs": [],
   "source": [
    "import glob\n",
    "import numpy as np\n",
    "import pandas as pd \n",
    "import os \n",
    "import matplotlib.pyplot as plt\n",
    "import re"
   ]
  },
  {
   "cell_type": "markdown",
   "id": "de582f49",
   "metadata": {},
   "source": [
    "#### Se importan datos de un total de 18278 jugadores de futbol del 2020."
   ]
  },
  {
   "cell_type": "code",
   "execution_count": 3,
   "id": "5cbce1bb",
   "metadata": {},
   "outputs": [],
   "source": [
    "fifa2020=pd.read_csv(\"./datos/players_20.csv\")"
   ]
  },
  {
   "cell_type": "code",
   "execution_count": 31,
   "id": "9f305421",
   "metadata": {},
   "outputs": [
    {
     "data": {
      "text/plain": [
       "(18278, 104)"
      ]
     },
     "execution_count": 31,
     "metadata": {},
     "output_type": "execute_result"
    }
   ],
   "source": [
    "fifa2020.shape"
   ]
  },
  {
   "cell_type": "markdown",
   "id": "dc426630",
   "metadata": {},
   "source": [
    "## Primer filtrado de dados  "
   ]
  },
  {
   "cell_type": "markdown",
   "id": "2005e2c8",
   "metadata": {},
   "source": [
    "### Se filtran los datos que se utilizarán en el análisis pasando de 104 columnas a 13"
   ]
  },
  {
   "cell_type": "code",
   "execution_count": 7,
   "id": "24703160",
   "metadata": {},
   "outputs": [],
   "source": [
    "fifa2020_filtro= fifa2020[[\"short_name\", \"age\", \"height_cm\", \"weight_kg\", \"nationality\", \"club\", \"overall\", \"potential\", \"value_eur\",\n",
    "                 \"wage_eur\", \"player_positions\", \"power_jumping\", \"power_long_shots\"]]"
   ]
  },
  {
   "cell_type": "markdown",
   "id": "c24e594a",
   "metadata": {},
   "source": [
    "### Filtro Jugadores de Mexicanos "
   ]
  },
  {
   "cell_type": "code",
   "execution_count": 8,
   "id": "6334164b",
   "metadata": {},
   "outputs": [],
   "source": [
    "mexico=fifa2020_filtro[fifa2020_filtro[\"nationality\"] == \"Mexico\"]"
   ]
  },
  {
   "cell_type": "code",
   "execution_count": 32,
   "id": "4a526dc7",
   "metadata": {},
   "outputs": [
    {
     "data": {
      "text/plain": [
       "(340, 13)"
      ]
     },
     "execution_count": 32,
     "metadata": {},
     "output_type": "execute_result"
    }
   ],
   "source": [
    "mexico.shape"
   ]
  },
  {
   "cell_type": "code",
   "execution_count": 177,
   "id": "a61b2430",
   "metadata": {},
   "outputs": [
    {
     "data": {
      "text/html": [
       "<div>\n",
       "<style scoped>\n",
       "    .dataframe tbody tr th:only-of-type {\n",
       "        vertical-align: middle;\n",
       "    }\n",
       "\n",
       "    .dataframe tbody tr th {\n",
       "        vertical-align: top;\n",
       "    }\n",
       "\n",
       "    .dataframe thead th {\n",
       "        text-align: right;\n",
       "    }\n",
       "</style>\n",
       "<table border=\"1\" class=\"dataframe\">\n",
       "  <thead>\n",
       "    <tr style=\"text-align: right;\">\n",
       "      <th></th>\n",
       "      <th>short_name</th>\n",
       "      <th>age</th>\n",
       "      <th>height_cm</th>\n",
       "      <th>weight_kg</th>\n",
       "      <th>nationality</th>\n",
       "      <th>club</th>\n",
       "      <th>overall</th>\n",
       "      <th>potential</th>\n",
       "      <th>value_eur</th>\n",
       "      <th>wage_eur</th>\n",
       "      <th>player_positions</th>\n",
       "      <th>power_jumping</th>\n",
       "      <th>power_long_shots</th>\n",
       "    </tr>\n",
       "  </thead>\n",
       "  <tbody>\n",
       "    <tr>\n",
       "      <th>209</th>\n",
       "      <td>C. Vela</td>\n",
       "      <td>30</td>\n",
       "      <td>177</td>\n",
       "      <td>77</td>\n",
       "      <td>Mexico</td>\n",
       "      <td>Los Angeles FC</td>\n",
       "      <td>83</td>\n",
       "      <td>83</td>\n",
       "      <td>24500000</td>\n",
       "      <td>17000</td>\n",
       "      <td>RW, LW, CAM</td>\n",
       "      <td>65</td>\n",
       "      <td>84</td>\n",
       "    </tr>\n",
       "    <tr>\n",
       "      <th>255</th>\n",
       "      <td>H. Lozano</td>\n",
       "      <td>23</td>\n",
       "      <td>175</td>\n",
       "      <td>70</td>\n",
       "      <td>Mexico</td>\n",
       "      <td>PSV</td>\n",
       "      <td>82</td>\n",
       "      <td>86</td>\n",
       "      <td>29000000</td>\n",
       "      <td>26000</td>\n",
       "      <td>RW, LW</td>\n",
       "      <td>67</td>\n",
       "      <td>74</td>\n",
       "    </tr>\n",
       "    <tr>\n",
       "      <th>291</th>\n",
       "      <td>H. Herrera</td>\n",
       "      <td>29</td>\n",
       "      <td>185</td>\n",
       "      <td>80</td>\n",
       "      <td>Mexico</td>\n",
       "      <td>Atlético Madrid</td>\n",
       "      <td>82</td>\n",
       "      <td>82</td>\n",
       "      <td>21500000</td>\n",
       "      <td>70000</td>\n",
       "      <td>CM</td>\n",
       "      <td>76</td>\n",
       "      <td>78</td>\n",
       "    </tr>\n",
       "    <tr>\n",
       "      <th>363</th>\n",
       "      <td>J. Corona</td>\n",
       "      <td>26</td>\n",
       "      <td>173</td>\n",
       "      <td>62</td>\n",
       "      <td>Mexico</td>\n",
       "      <td>FC Porto</td>\n",
       "      <td>81</td>\n",
       "      <td>82</td>\n",
       "      <td>21000000</td>\n",
       "      <td>19000</td>\n",
       "      <td>RM, RB</td>\n",
       "      <td>72</td>\n",
       "      <td>67</td>\n",
       "    </tr>\n",
       "    <tr>\n",
       "      <th>381</th>\n",
       "      <td>A. Guardado</td>\n",
       "      <td>32</td>\n",
       "      <td>169</td>\n",
       "      <td>67</td>\n",
       "      <td>Mexico</td>\n",
       "      <td>Real Betis</td>\n",
       "      <td>81</td>\n",
       "      <td>81</td>\n",
       "      <td>13500000</td>\n",
       "      <td>32000</td>\n",
       "      <td>CM, CDM, LM</td>\n",
       "      <td>74</td>\n",
       "      <td>74</td>\n",
       "    </tr>\n",
       "    <tr>\n",
       "      <th>...</th>\n",
       "      <td>...</td>\n",
       "      <td>...</td>\n",
       "      <td>...</td>\n",
       "      <td>...</td>\n",
       "      <td>...</td>\n",
       "      <td>...</td>\n",
       "      <td>...</td>\n",
       "      <td>...</td>\n",
       "      <td>...</td>\n",
       "      <td>...</td>\n",
       "      <td>...</td>\n",
       "      <td>...</td>\n",
       "      <td>...</td>\n",
       "    </tr>\n",
       "    <tr>\n",
       "      <th>18133</th>\n",
       "      <td>J. García</td>\n",
       "      <td>21</td>\n",
       "      <td>186</td>\n",
       "      <td>72</td>\n",
       "      <td>Mexico</td>\n",
       "      <td>Santos Laguna</td>\n",
       "      <td>50</td>\n",
       "      <td>62</td>\n",
       "      <td>40000</td>\n",
       "      <td>1000</td>\n",
       "      <td>GK</td>\n",
       "      <td>64</td>\n",
       "      <td>9</td>\n",
       "    </tr>\n",
       "    <tr>\n",
       "      <th>18168</th>\n",
       "      <td>R. Hernández</td>\n",
       "      <td>30</td>\n",
       "      <td>173</td>\n",
       "      <td>71</td>\n",
       "      <td>Mexico</td>\n",
       "      <td>Tiburones Rojos de Veracruz</td>\n",
       "      <td>50</td>\n",
       "      <td>50</td>\n",
       "      <td>30000</td>\n",
       "      <td>1000</td>\n",
       "      <td>CM</td>\n",
       "      <td>55</td>\n",
       "      <td>37</td>\n",
       "    </tr>\n",
       "    <tr>\n",
       "      <th>18215</th>\n",
       "      <td>R. Miranda</td>\n",
       "      <td>20</td>\n",
       "      <td>174</td>\n",
       "      <td>65</td>\n",
       "      <td>Mexico</td>\n",
       "      <td>Atlético de San Luis</td>\n",
       "      <td>49</td>\n",
       "      <td>61</td>\n",
       "      <td>50000</td>\n",
       "      <td>1000</td>\n",
       "      <td>CM</td>\n",
       "      <td>52</td>\n",
       "      <td>34</td>\n",
       "    </tr>\n",
       "    <tr>\n",
       "      <th>18221</th>\n",
       "      <td>J. Rodríguez</td>\n",
       "      <td>20</td>\n",
       "      <td>179</td>\n",
       "      <td>74</td>\n",
       "      <td>Mexico</td>\n",
       "      <td>FC Juárez</td>\n",
       "      <td>49</td>\n",
       "      <td>59</td>\n",
       "      <td>40000</td>\n",
       "      <td>2000</td>\n",
       "      <td>CB</td>\n",
       "      <td>71</td>\n",
       "      <td>23</td>\n",
       "    </tr>\n",
       "    <tr>\n",
       "      <th>18263</th>\n",
       "      <td>F. Nevarez</td>\n",
       "      <td>18</td>\n",
       "      <td>178</td>\n",
       "      <td>69</td>\n",
       "      <td>Mexico</td>\n",
       "      <td>FC Juárez</td>\n",
       "      <td>48</td>\n",
       "      <td>61</td>\n",
       "      <td>50000</td>\n",
       "      <td>1000</td>\n",
       "      <td>RB</td>\n",
       "      <td>63</td>\n",
       "      <td>20</td>\n",
       "    </tr>\n",
       "  </tbody>\n",
       "</table>\n",
       "<p>340 rows × 13 columns</p>\n",
       "</div>"
      ],
      "text/plain": [
       "         short_name  age  height_cm  weight_kg nationality  \\\n",
       "209         C. Vela   30        177         77      Mexico   \n",
       "255       H. Lozano   23        175         70      Mexico   \n",
       "291      H. Herrera   29        185         80      Mexico   \n",
       "363       J. Corona   26        173         62      Mexico   \n",
       "381     A. Guardado   32        169         67      Mexico   \n",
       "...             ...  ...        ...        ...         ...   \n",
       "18133     J. García   21        186         72      Mexico   \n",
       "18168  R. Hernández   30        173         71      Mexico   \n",
       "18215    R. Miranda   20        174         65      Mexico   \n",
       "18221  J. Rodríguez   20        179         74      Mexico   \n",
       "18263    F. Nevarez   18        178         69      Mexico   \n",
       "\n",
       "                              club  overall  potential  value_eur  wage_eur  \\\n",
       "209                 Los Angeles FC       83         83   24500000     17000   \n",
       "255                            PSV       82         86   29000000     26000   \n",
       "291                Atlético Madrid       82         82   21500000     70000   \n",
       "363                       FC Porto       81         82   21000000     19000   \n",
       "381                     Real Betis       81         81   13500000     32000   \n",
       "...                            ...      ...        ...        ...       ...   \n",
       "18133                Santos Laguna       50         62      40000      1000   \n",
       "18168  Tiburones Rojos de Veracruz       50         50      30000      1000   \n",
       "18215         Atlético de San Luis       49         61      50000      1000   \n",
       "18221                    FC Juárez       49         59      40000      2000   \n",
       "18263                    FC Juárez       48         61      50000      1000   \n",
       "\n",
       "      player_positions  power_jumping  power_long_shots  \n",
       "209        RW, LW, CAM             65                84  \n",
       "255             RW, LW             67                74  \n",
       "291                 CM             76                78  \n",
       "363             RM, RB             72                67  \n",
       "381        CM, CDM, LM             74                74  \n",
       "...                ...            ...               ...  \n",
       "18133               GK             64                 9  \n",
       "18168               CM             55                37  \n",
       "18215               CM             52                34  \n",
       "18221               CB             71                23  \n",
       "18263               RB             63                20  \n",
       "\n",
       "[340 rows x 13 columns]"
      ]
     },
     "execution_count": 177,
     "metadata": {},
     "output_type": "execute_result"
    }
   ],
   "source": [
    "mexico"
   ]
  },
  {
   "cell_type": "markdown",
   "id": "3810290b",
   "metadata": {},
   "source": [
    "### Filtro jugadores de EUA "
   ]
  },
  {
   "cell_type": "code",
   "execution_count": 9,
   "id": "518bb46b",
   "metadata": {},
   "outputs": [],
   "source": [
    "estados_U=fifa2020_filtro[fifa2020_filtro[\"nationality\"] == \"United States\"]"
   ]
  },
  {
   "cell_type": "code",
   "execution_count": 35,
   "id": "5e17bcf9",
   "metadata": {},
   "outputs": [
    {
     "data": {
      "text/plain": [
       "(347, 13)"
      ]
     },
     "execution_count": 35,
     "metadata": {},
     "output_type": "execute_result"
    }
   ],
   "source": [
    "estados_U.shape"
   ]
  },
  {
   "cell_type": "code",
   "execution_count": 10,
   "id": "8251f501",
   "metadata": {},
   "outputs": [
    {
     "data": {
      "text/html": [
       "<div>\n",
       "<style scoped>\n",
       "    .dataframe tbody tr th:only-of-type {\n",
       "        vertical-align: middle;\n",
       "    }\n",
       "\n",
       "    .dataframe tbody tr th {\n",
       "        vertical-align: top;\n",
       "    }\n",
       "\n",
       "    .dataframe thead th {\n",
       "        text-align: right;\n",
       "    }\n",
       "</style>\n",
       "<table border=\"1\" class=\"dataframe\">\n",
       "  <thead>\n",
       "    <tr style=\"text-align: right;\">\n",
       "      <th></th>\n",
       "      <th>short_name</th>\n",
       "      <th>age</th>\n",
       "      <th>height_cm</th>\n",
       "      <th>weight_kg</th>\n",
       "      <th>nationality</th>\n",
       "      <th>club</th>\n",
       "      <th>overall</th>\n",
       "      <th>potential</th>\n",
       "      <th>value_eur</th>\n",
       "      <th>wage_eur</th>\n",
       "      <th>player_positions</th>\n",
       "      <th>power_jumping</th>\n",
       "      <th>power_long_shots</th>\n",
       "    </tr>\n",
       "  </thead>\n",
       "  <tbody>\n",
       "    <tr>\n",
       "      <th>583</th>\n",
       "      <td>C. Pulisic</td>\n",
       "      <td>20</td>\n",
       "      <td>177</td>\n",
       "      <td>69</td>\n",
       "      <td>United States</td>\n",
       "      <td>Chelsea</td>\n",
       "      <td>79</td>\n",
       "      <td>86</td>\n",
       "      <td>18000000</td>\n",
       "      <td>85000</td>\n",
       "      <td>LW, RW</td>\n",
       "      <td>78</td>\n",
       "      <td>58</td>\n",
       "    </tr>\n",
       "    <tr>\n",
       "      <th>629</th>\n",
       "      <td>J. Brooks</td>\n",
       "      <td>26</td>\n",
       "      <td>193</td>\n",
       "      <td>78</td>\n",
       "      <td>United States</td>\n",
       "      <td>VfL Wolfsburg</td>\n",
       "      <td>79</td>\n",
       "      <td>82</td>\n",
       "      <td>14000000</td>\n",
       "      <td>46000</td>\n",
       "      <td>CB</td>\n",
       "      <td>73</td>\n",
       "      <td>29</td>\n",
       "    </tr>\n",
       "    <tr>\n",
       "      <th>1264</th>\n",
       "      <td>T. Adams</td>\n",
       "      <td>20</td>\n",
       "      <td>176</td>\n",
       "      <td>68</td>\n",
       "      <td>United States</td>\n",
       "      <td>RB Leipzig</td>\n",
       "      <td>76</td>\n",
       "      <td>86</td>\n",
       "      <td>11500000</td>\n",
       "      <td>28000</td>\n",
       "      <td>CDM, RWB</td>\n",
       "      <td>83</td>\n",
       "      <td>46</td>\n",
       "    </tr>\n",
       "    <tr>\n",
       "      <th>1267</th>\n",
       "      <td>W. McKennie</td>\n",
       "      <td>20</td>\n",
       "      <td>185</td>\n",
       "      <td>84</td>\n",
       "      <td>United States</td>\n",
       "      <td>FC Schalke 04</td>\n",
       "      <td>76</td>\n",
       "      <td>86</td>\n",
       "      <td>12500000</td>\n",
       "      <td>21000</td>\n",
       "      <td>CM, CB, CAM</td>\n",
       "      <td>92</td>\n",
       "      <td>68</td>\n",
       "    </tr>\n",
       "    <tr>\n",
       "      <th>1292</th>\n",
       "      <td>Z. Steffen</td>\n",
       "      <td>24</td>\n",
       "      <td>191</td>\n",
       "      <td>86</td>\n",
       "      <td>United States</td>\n",
       "      <td>Fortuna Düsseldorf</td>\n",
       "      <td>76</td>\n",
       "      <td>84</td>\n",
       "      <td>8500000</td>\n",
       "      <td>18000</td>\n",
       "      <td>GK</td>\n",
       "      <td>71</td>\n",
       "      <td>12</td>\n",
       "    </tr>\n",
       "    <tr>\n",
       "      <th>...</th>\n",
       "      <td>...</td>\n",
       "      <td>...</td>\n",
       "      <td>...</td>\n",
       "      <td>...</td>\n",
       "      <td>...</td>\n",
       "      <td>...</td>\n",
       "      <td>...</td>\n",
       "      <td>...</td>\n",
       "      <td>...</td>\n",
       "      <td>...</td>\n",
       "      <td>...</td>\n",
       "      <td>...</td>\n",
       "      <td>...</td>\n",
       "    </tr>\n",
       "    <tr>\n",
       "      <th>17949</th>\n",
       "      <td>J. Akanyirige</td>\n",
       "      <td>17</td>\n",
       "      <td>180</td>\n",
       "      <td>73</td>\n",
       "      <td>United States</td>\n",
       "      <td>San Jose Earthquakes</td>\n",
       "      <td>51</td>\n",
       "      <td>75</td>\n",
       "      <td>80000</td>\n",
       "      <td>1000</td>\n",
       "      <td>CB</td>\n",
       "      <td>74</td>\n",
       "      <td>23</td>\n",
       "    </tr>\n",
       "    <tr>\n",
       "      <th>17954</th>\n",
       "      <td>B. Reynolds</td>\n",
       "      <td>18</td>\n",
       "      <td>191</td>\n",
       "      <td>77</td>\n",
       "      <td>United States</td>\n",
       "      <td>FC Dallas</td>\n",
       "      <td>51</td>\n",
       "      <td>73</td>\n",
       "      <td>80000</td>\n",
       "      <td>1000</td>\n",
       "      <td>ST, CAM</td>\n",
       "      <td>60</td>\n",
       "      <td>42</td>\n",
       "    </tr>\n",
       "    <tr>\n",
       "      <th>18067</th>\n",
       "      <td>J. Haak</td>\n",
       "      <td>17</td>\n",
       "      <td>184</td>\n",
       "      <td>75</td>\n",
       "      <td>United States</td>\n",
       "      <td>New York City FC</td>\n",
       "      <td>50</td>\n",
       "      <td>73</td>\n",
       "      <td>60000</td>\n",
       "      <td>1000</td>\n",
       "      <td>CM</td>\n",
       "      <td>58</td>\n",
       "      <td>39</td>\n",
       "    </tr>\n",
       "    <tr>\n",
       "      <th>18109</th>\n",
       "      <td>D. Louicius</td>\n",
       "      <td>18</td>\n",
       "      <td>180</td>\n",
       "      <td>65</td>\n",
       "      <td>United States</td>\n",
       "      <td>Hobro IK</td>\n",
       "      <td>50</td>\n",
       "      <td>66</td>\n",
       "      <td>60000</td>\n",
       "      <td>1000</td>\n",
       "      <td>ST</td>\n",
       "      <td>59</td>\n",
       "      <td>44</td>\n",
       "    </tr>\n",
       "    <tr>\n",
       "      <th>18144</th>\n",
       "      <td>J. Hague</td>\n",
       "      <td>22</td>\n",
       "      <td>191</td>\n",
       "      <td>84</td>\n",
       "      <td>United States</td>\n",
       "      <td>FC Cincinnati</td>\n",
       "      <td>50</td>\n",
       "      <td>60</td>\n",
       "      <td>40000</td>\n",
       "      <td>1000</td>\n",
       "      <td>GK</td>\n",
       "      <td>49</td>\n",
       "      <td>8</td>\n",
       "    </tr>\n",
       "  </tbody>\n",
       "</table>\n",
       "<p>347 rows × 13 columns</p>\n",
       "</div>"
      ],
      "text/plain": [
       "          short_name  age  height_cm  weight_kg    nationality  \\\n",
       "583       C. Pulisic   20        177         69  United States   \n",
       "629        J. Brooks   26        193         78  United States   \n",
       "1264        T. Adams   20        176         68  United States   \n",
       "1267     W. McKennie   20        185         84  United States   \n",
       "1292      Z. Steffen   24        191         86  United States   \n",
       "...              ...  ...        ...        ...            ...   \n",
       "17949  J. Akanyirige   17        180         73  United States   \n",
       "17954    B. Reynolds   18        191         77  United States   \n",
       "18067        J. Haak   17        184         75  United States   \n",
       "18109    D. Louicius   18        180         65  United States   \n",
       "18144       J. Hague   22        191         84  United States   \n",
       "\n",
       "                       club  overall  potential  value_eur  wage_eur  \\\n",
       "583                 Chelsea       79         86   18000000     85000   \n",
       "629           VfL Wolfsburg       79         82   14000000     46000   \n",
       "1264             RB Leipzig       76         86   11500000     28000   \n",
       "1267          FC Schalke 04       76         86   12500000     21000   \n",
       "1292     Fortuna Düsseldorf       76         84    8500000     18000   \n",
       "...                     ...      ...        ...        ...       ...   \n",
       "17949  San Jose Earthquakes       51         75      80000      1000   \n",
       "17954             FC Dallas       51         73      80000      1000   \n",
       "18067      New York City FC       50         73      60000      1000   \n",
       "18109              Hobro IK       50         66      60000      1000   \n",
       "18144         FC Cincinnati       50         60      40000      1000   \n",
       "\n",
       "      player_positions  power_jumping  power_long_shots  \n",
       "583             LW, RW             78                58  \n",
       "629                 CB             73                29  \n",
       "1264          CDM, RWB             83                46  \n",
       "1267       CM, CB, CAM             92                68  \n",
       "1292                GK             71                12  \n",
       "...                ...            ...               ...  \n",
       "17949               CB             74                23  \n",
       "17954          ST, CAM             60                42  \n",
       "18067               CM             58                39  \n",
       "18109               ST             59                44  \n",
       "18144               GK             49                 8  \n",
       "\n",
       "[347 rows x 13 columns]"
      ]
     },
     "execution_count": 10,
     "metadata": {},
     "output_type": "execute_result"
    }
   ],
   "source": [
    "estados_U"
   ]
  },
  {
   "cell_type": "markdown",
   "id": "28d928a3",
   "metadata": {},
   "source": [
    "## ¿Qué pais tiene los mejores jugadores? "
   ]
  },
  {
   "cell_type": "code",
   "execution_count": 288,
   "id": "7b313031",
   "metadata": {},
   "outputs": [
    {
     "data": {
      "image/png": "[encoded data removed]",
      "text/plain": [
       "<Figure size 432x288 with 2 Axes>"
      ]
     },
     "metadata": {
      "needs_background": "light"
     },
     "output_type": "display_data"
    }
   ],
   "source": [
    "plt.figure()\n",
    "\n",
    "plt.subplot(121)\n",
    "plt.boxplot(mexico[\"overall\"])\n",
    "plt.ylabel(\"Puntuación General\")\n",
    "plt.title(\"México\")\n",
    "plt.grid(True)\n",
    "\n",
    "plt.subplot(122)\n",
    "plt.boxplot(estados_U[\"overall\"])\n",
    "plt.title(\"Estados Unidos\")\n",
    "plt.grid(True)"
   ]
  },
  {
   "cell_type": "code",
   "execution_count": 67,
   "id": "adcb5a4f",
   "metadata": {
    "scrolled": true
   },
   "outputs": [
    {
     "name": "stdout",
     "output_type": "stream",
     "text": [
      "count    340.000000\n",
      "mean      65.808824\n",
      "std        6.366990\n",
      "min       48.000000\n",
      "25%       61.000000\n",
      "50%       66.000000\n",
      "75%       70.000000\n",
      "max       83.000000\n",
      "Name: overall, dtype: float64\n"
     ]
    }
   ],
   "source": [
    "print(mexico[\"overall\"].describe())"
   ]
  },
  {
   "cell_type": "code",
   "execution_count": 68,
   "id": "259fa517",
   "metadata": {},
   "outputs": [
    {
     "name": "stdout",
     "output_type": "stream",
     "text": [
      "count    347.000000\n",
      "mean      64.530259\n",
      "std        5.824612\n",
      "min       50.000000\n",
      "25%       61.000000\n",
      "50%       65.000000\n",
      "75%       68.500000\n",
      "max       79.000000\n",
      "Name: overall, dtype: float64\n"
     ]
    }
   ],
   "source": [
    "print(estados_U[\"overall\"].describe())"
   ]
  },
  {
   "cell_type": "markdown",
   "id": "9862ff0b",
   "metadata": {},
   "source": [
    "#### Podemos observar con la gráfica anterior que ambos paices tiene jugadores de un nivel muy similar."
   ]
  },
  {
   "cell_type": "markdown",
   "id": "6bee1fad",
   "metadata": {},
   "source": [
    "## ¿qué país tiene los jugadores mejor valorados?"
   ]
  },
  {
   "cell_type": "markdown",
   "id": "65dab087",
   "metadata": {},
   "source": [
    "## México "
   ]
  },
  {
   "cell_type": "code",
   "execution_count": 38,
   "id": "8c9f81b6",
   "metadata": {},
   "outputs": [
    {
     "data": {
      "text/plain": [
       "count    3.400000e+02\n",
       "mean     1.832441e+06\n",
       "std      3.370611e+06\n",
       "min      0.000000e+00\n",
       "25%      3.250000e+05\n",
       "50%      6.750000e+05\n",
       "75%      1.700000e+06\n",
       "max      2.900000e+07\n",
       "Name: value_eur, dtype: float64"
      ]
     },
     "execution_count": 38,
     "metadata": {},
     "output_type": "execute_result"
    }
   ],
   "source": [
    "mexico[\"value_eur\"].describe()"
   ]
  },
  {
   "cell_type": "code",
   "execution_count": 41,
   "id": "8dad628a",
   "metadata": {
    "scrolled": false
   },
   "outputs": [
    {
     "data": {
      "text/plain": [
       "Text(0.5, 1.0, 'Valor en 10x7 de millones de Euros - México')"
      ]
     },
     "execution_count": 41,
     "metadata": {},
     "output_type": "execute_result"
    },
    {
     "data": {
      "image/png": "[encoded data removed]",
      "text/plain": [
       "<Figure size 432x288 with 1 Axes>"
      ]
     },
     "metadata": {
      "needs_background": "light"
     },
     "output_type": "display_data"
    }
   ],
   "source": [
    "plt.hist(mexico[\"value_eur\"])\n",
    "plt.xlabel(\"Valor en 10x7 de millones de Euros\")\n",
    "plt.ylabel(\"Frecuencia\")\n",
    "plt.title(\"Valor en 10x7 de millones de Euros - México\")\n",
    "\n"
   ]
  },
  {
   "cell_type": "code",
   "execution_count": 17,
   "id": "7438276d",
   "metadata": {
    "scrolled": true
   },
   "outputs": [],
   "source": [
    "masvaluado_mx = mexico[mexico[\"value_eur\"] > 15000000]\n",
    "masvaluado_mex= masvaluado_mx[[\"short_name\",\"club\",\"overall\" , \"age\", \"value_eur\"]]"
   ]
  },
  {
   "cell_type": "code",
   "execution_count": 18,
   "id": "595fe7cb",
   "metadata": {},
   "outputs": [
    {
     "data": {
      "text/html": [
       "<div>\n",
       "<style scoped>\n",
       "    .dataframe tbody tr th:only-of-type {\n",
       "        vertical-align: middle;\n",
       "    }\n",
       "\n",
       "    .dataframe tbody tr th {\n",
       "        vertical-align: top;\n",
       "    }\n",
       "\n",
       "    .dataframe thead th {\n",
       "        text-align: right;\n",
       "    }\n",
       "</style>\n",
       "<table border=\"1\" class=\"dataframe\">\n",
       "  <thead>\n",
       "    <tr style=\"text-align: right;\">\n",
       "      <th></th>\n",
       "      <th>short_name</th>\n",
       "      <th>club</th>\n",
       "      <th>overall</th>\n",
       "      <th>age</th>\n",
       "      <th>value_eur</th>\n",
       "    </tr>\n",
       "  </thead>\n",
       "  <tbody>\n",
       "    <tr>\n",
       "      <th>209</th>\n",
       "      <td>C. Vela</td>\n",
       "      <td>Los Angeles FC</td>\n",
       "      <td>83</td>\n",
       "      <td>30</td>\n",
       "      <td>24500000</td>\n",
       "    </tr>\n",
       "    <tr>\n",
       "      <th>255</th>\n",
       "      <td>H. Lozano</td>\n",
       "      <td>PSV</td>\n",
       "      <td>82</td>\n",
       "      <td>23</td>\n",
       "      <td>29000000</td>\n",
       "    </tr>\n",
       "    <tr>\n",
       "      <th>291</th>\n",
       "      <td>H. Herrera</td>\n",
       "      <td>Atlético Madrid</td>\n",
       "      <td>82</td>\n",
       "      <td>29</td>\n",
       "      <td>21500000</td>\n",
       "    </tr>\n",
       "    <tr>\n",
       "      <th>363</th>\n",
       "      <td>J. Corona</td>\n",
       "      <td>FC Porto</td>\n",
       "      <td>81</td>\n",
       "      <td>26</td>\n",
       "      <td>21000000</td>\n",
       "    </tr>\n",
       "    <tr>\n",
       "      <th>555</th>\n",
       "      <td>R. Jiménez</td>\n",
       "      <td>Wolverhampton Wanderers</td>\n",
       "      <td>80</td>\n",
       "      <td>28</td>\n",
       "      <td>15500000</td>\n",
       "    </tr>\n",
       "  </tbody>\n",
       "</table>\n",
       "</div>"
      ],
      "text/plain": [
       "     short_name                     club  overall  age  value_eur\n",
       "209     C. Vela           Los Angeles FC       83   30   24500000\n",
       "255   H. Lozano                      PSV       82   23   29000000\n",
       "291  H. Herrera          Atlético Madrid       82   29   21500000\n",
       "363   J. Corona                 FC Porto       81   26   21000000\n",
       "555  R. Jiménez  Wolverhampton Wanderers       80   28   15500000"
      ]
     },
     "execution_count": 18,
     "metadata": {},
     "output_type": "execute_result"
    }
   ],
   "source": [
    "masvaluado_mex"
   ]
  },
  {
   "cell_type": "markdown",
   "id": "99210103",
   "metadata": {},
   "source": [
    "## Estados Unidos"
   ]
  },
  {
   "cell_type": "code",
   "execution_count": 19,
   "id": "8a7e0e4a",
   "metadata": {},
   "outputs": [
    {
     "data": {
      "text/plain": [
       "count    3.470000e+02\n",
       "mean     1.185173e+06\n",
       "std      2.004974e+06\n",
       "min      4.000000e+04\n",
       "25%      2.800000e+05\n",
       "50%      5.500000e+05\n",
       "75%      1.100000e+06\n",
       "max      1.800000e+07\n",
       "Name: value_eur, dtype: float64"
      ]
     },
     "execution_count": 19,
     "metadata": {},
     "output_type": "execute_result"
    }
   ],
   "source": [
    "estados_U[\"value_eur\"].describe()"
   ]
  },
  {
   "cell_type": "code",
   "execution_count": 20,
   "id": "01866a52",
   "metadata": {},
   "outputs": [
    {
     "data": {
      "text/plain": [
       "Text(0.5, 1.0, 'Valor en 10x7 de millones de Euros - Estados Unidos')"
      ]
     },
     "execution_count": 20,
     "metadata": {},
     "output_type": "execute_result"
    },
    {
     "data": {
      "image/png": "[encoded data removed]",
      "text/plain": [
       "<Figure size 432x288 with 1 Axes>"
      ]
     },
     "metadata": {
      "needs_background": "light"
     },
     "output_type": "display_data"
    }
   ],
   "source": [
    "plt.hist(estados_U[\"value_eur\"])\n",
    "plt.xlabel(\"Valor en 10x7 de millones de Euros\")\n",
    "plt.ylabel(\"Frecuencia\")\n",
    "plt.title(\"Valor en 10x7 de millones de Euros - Estados Unidos\")\n"
   ]
  },
  {
   "cell_type": "code",
   "execution_count": 44,
   "id": "5362be74",
   "metadata": {},
   "outputs": [],
   "source": [
    "masvaluado_EU = estados_U[estados_U[\"value_eur\"] > 15000000]\n",
    "masvaluado_EUA= masvaluado_EU[[\"short_name\",\"club\",\"overall\" , \"age\", \"value_eur\"]]"
   ]
  },
  {
   "cell_type": "code",
   "execution_count": 45,
   "id": "88c4a16f",
   "metadata": {},
   "outputs": [
    {
     "data": {
      "text/html": [
       "<div>\n",
       "<style scoped>\n",
       "    .dataframe tbody tr th:only-of-type {\n",
       "        vertical-align: middle;\n",
       "    }\n",
       "\n",
       "    .dataframe tbody tr th {\n",
       "        vertical-align: top;\n",
       "    }\n",
       "\n",
       "    .dataframe thead th {\n",
       "        text-align: right;\n",
       "    }\n",
       "</style>\n",
       "<table border=\"1\" class=\"dataframe\">\n",
       "  <thead>\n",
       "    <tr style=\"text-align: right;\">\n",
       "      <th></th>\n",
       "      <th>short_name</th>\n",
       "      <th>club</th>\n",
       "      <th>overall</th>\n",
       "      <th>age</th>\n",
       "      <th>value_eur</th>\n",
       "    </tr>\n",
       "  </thead>\n",
       "  <tbody>\n",
       "    <tr>\n",
       "      <th>583</th>\n",
       "      <td>C. Pulisic</td>\n",
       "      <td>Chelsea</td>\n",
       "      <td>79</td>\n",
       "      <td>20</td>\n",
       "      <td>18000000</td>\n",
       "    </tr>\n",
       "  </tbody>\n",
       "</table>\n",
       "</div>"
      ],
      "text/plain": [
       "     short_name     club  overall  age  value_eur\n",
       "583  C. Pulisic  Chelsea       79   20   18000000"
      ]
     },
     "execution_count": 45,
     "metadata": {},
     "output_type": "execute_result"
    }
   ],
   "source": [
    "masvaluado_EUA"
   ]
  },
  {
   "cell_type": "markdown",
   "id": "a023afa1",
   "metadata": {},
   "source": [
    "## Relación entre edad y valoración "
   ]
  },
  {
   "cell_type": "markdown",
   "id": "8efda23b",
   "metadata": {},
   "source": [
    "### México "
   ]
  },
  {
   "cell_type": "code",
   "execution_count": 48,
   "id": "e9008d86",
   "metadata": {},
   "outputs": [
    {
     "data": {
      "text/plain": [
       "<AxesSubplot:xlabel='age', ylabel='value_eur'>"
      ]
     },
     "execution_count": 48,
     "metadata": {},
     "output_type": "execute_result"
    },
    {
     "data": {
      "image/png": "[encoded data removed]",
      "text/plain": [
       "<Figure size 432x288 with 1 Axes>"
      ]
     },
     "metadata": {
      "needs_background": "light"
     },
     "output_type": "display_data"
    }
   ],
   "source": [
    "mexico.plot(kind = \"scatter\", x = \"age\", y = \"value_eur\")"
   ]
  },
  {
   "cell_type": "markdown",
   "id": "6529c6a4",
   "metadata": {},
   "source": [
    "### Estados Unidos "
   ]
  },
  {
   "cell_type": "code",
   "execution_count": 49,
   "id": "d8013431",
   "metadata": {
    "scrolled": true
   },
   "outputs": [
    {
     "data": {
      "text/plain": [
       "<AxesSubplot:xlabel='age', ylabel='value_eur'>"
      ]
     },
     "execution_count": 49,
     "metadata": {},
     "output_type": "execute_result"
    },
    {
     "data": {
      "image/png": "[encoded data removed]",
      "text/plain": [
       "<Figure size 432x288 with 1 Axes>"
      ]
     },
     "metadata": {
      "needs_background": "light"
     },
     "output_type": "display_data"
    }
   ],
   "source": [
    "estados_U.plot(kind = \"scatter\", x = \"age\", y = \"value_eur\")"
   ]
  },
  {
   "cell_type": "markdown",
   "id": "a1368e4f",
   "metadata": {},
   "source": [
    "## Evolución de los 9 mejores jugadores Mexicanos del 2020 en los ultimos 6 años y predicción 2021"
   ]
  },
  {
   "cell_type": "code",
   "execution_count": 4,
   "id": "b71cb69d",
   "metadata": {},
   "outputs": [],
   "source": [
    "files=glob.glob(\"./datos/*.csv\")"
   ]
  },
  {
   "cell_type": "code",
   "execution_count": 37,
   "id": "b9d2aadd",
   "metadata": {},
   "outputs": [
    {
     "data": {
      "text/plain": [
       "['./players_16.csv',\n",
       " './players_19.csv',\n",
       " './players_18.csv',\n",
       " './players_17.csv',\n",
       " './players_15.csv',\n",
       " './players_20.csv']"
      ]
     },
     "execution_count": 37,
     "metadata": {},
     "output_type": "execute_result"
    }
   ],
   "source": [
    "files"
   ]
  },
  {
   "cell_type": "code",
   "execution_count": 38,
   "id": "c875354a",
   "metadata": {},
   "outputs": [
    {
     "name": "stdout",
     "output_type": "stream",
     "text": [
      "15 ./players_15.csv\n",
      "16 ./players_16.csv\n",
      "17 ./players_17.csv\n",
      "18 ./players_18.csv\n",
      "19 ./players_19.csv\n",
      "20 ./players_20.csv\n"
     ]
    }
   ],
   "source": [
    "date=[]\n",
    "date_=[]\n",
    "files_=[]\n",
    "\n",
    "for i,file in enumerate(files):\n",
    "    date.append(re.findall(r'\\d+',file)[0])\n",
    "\n",
    "\n",
    "temp=sorted(range(len(date)), key=date.__getitem__)\n",
    "\n",
    "for i in temp:\n",
    "    date_.append(date[i])\n",
    "    print(date[i],files[i])\n",
    "    files_.append(files[i])"
   ]
  },
  {
   "cell_type": "code",
   "execution_count": 69,
   "id": "c9d42d9a",
   "metadata": {},
   "outputs": [],
   "source": [
    "for i,file in enumerate(files_):\n",
    "    data=pd.read_csv(file)\n",
    "    data=data[1:]\n",
    "    data=data[data['nationality']==\"Mexico\"][1:]\n",
    "    jugador=data.groupby(['long_name']).sum()\n",
    "   \n",
    "    if i==0 :\n",
    "        if 'overall' in jugador.columns:\n",
    "            df_jugador = pd.DataFrame(jugador['overall'])\n",
    "    else:\n",
    "        if 'overall' in jugador.columns:\n",
    "            df_jugador[date_[i]]=jugador['overall']\n",
    "       "
   ]
  },
  {
   "cell_type": "code",
   "execution_count": 57,
   "id": "7a977a89",
   "metadata": {},
   "outputs": [
    {
     "data": {
      "text/html": [
       "<div>\n",
       "<style scoped>\n",
       "    .dataframe tbody tr th:only-of-type {\n",
       "        vertical-align: middle;\n",
       "    }\n",
       "\n",
       "    .dataframe tbody tr th {\n",
       "        vertical-align: top;\n",
       "    }\n",
       "\n",
       "    .dataframe thead th {\n",
       "        text-align: right;\n",
       "    }\n",
       "</style>\n",
       "<table border=\"1\" class=\"dataframe\">\n",
       "  <thead>\n",
       "    <tr style=\"text-align: right;\">\n",
       "      <th></th>\n",
       "      <th>overall</th>\n",
       "      <th>16</th>\n",
       "      <th>17</th>\n",
       "      <th>18</th>\n",
       "      <th>19</th>\n",
       "      <th>20</th>\n",
       "    </tr>\n",
       "    <tr>\n",
       "      <th>long_name</th>\n",
       "      <th></th>\n",
       "      <th></th>\n",
       "      <th></th>\n",
       "      <th></th>\n",
       "      <th></th>\n",
       "      <th></th>\n",
       "    </tr>\n",
       "  </thead>\n",
       "  <tbody>\n",
       "    <tr>\n",
       "      <th>Aarón Fernández</th>\n",
       "      <td>61</td>\n",
       "      <td>62.0</td>\n",
       "      <td>61.0</td>\n",
       "      <td>65.0</td>\n",
       "      <td>NaN</td>\n",
       "      <td>NaN</td>\n",
       "    </tr>\n",
       "    <tr>\n",
       "      <th>Aarón Galindo Rubio</th>\n",
       "      <td>67</td>\n",
       "      <td>69.0</td>\n",
       "      <td>70.0</td>\n",
       "      <td>NaN</td>\n",
       "      <td>NaN</td>\n",
       "      <td>NaN</td>\n",
       "    </tr>\n",
       "    <tr>\n",
       "      <th>Abraham Darío Carreño Rohan</th>\n",
       "      <td>65</td>\n",
       "      <td>66.0</td>\n",
       "      <td>NaN</td>\n",
       "      <td>NaN</td>\n",
       "      <td>NaN</td>\n",
       "      <td>NaN</td>\n",
       "    </tr>\n",
       "    <tr>\n",
       "      <th>Adrian Marín</th>\n",
       "      <td>62</td>\n",
       "      <td>62.0</td>\n",
       "      <td>63.0</td>\n",
       "      <td>NaN</td>\n",
       "      <td>NaN</td>\n",
       "      <td>NaN</td>\n",
       "    </tr>\n",
       "    <tr>\n",
       "      <th>Adrián Alexei Aldrete Rodríguez</th>\n",
       "      <td>67</td>\n",
       "      <td>70.0</td>\n",
       "      <td>70.0</td>\n",
       "      <td>69.0</td>\n",
       "      <td>69.0</td>\n",
       "      <td>70.0</td>\n",
       "    </tr>\n",
       "    <tr>\n",
       "      <th>...</th>\n",
       "      <td>...</td>\n",
       "      <td>...</td>\n",
       "      <td>...</td>\n",
       "      <td>...</td>\n",
       "      <td>...</td>\n",
       "      <td>...</td>\n",
       "    </tr>\n",
       "    <tr>\n",
       "      <th>Óscar Pérez Rojas</th>\n",
       "      <td>69</td>\n",
       "      <td>70.0</td>\n",
       "      <td>71.0</td>\n",
       "      <td>71.0</td>\n",
       "      <td>71.0</td>\n",
       "      <td>NaN</td>\n",
       "    </tr>\n",
       "    <tr>\n",
       "      <th>Óscar Ricardo Rojas García</th>\n",
       "      <td>63</td>\n",
       "      <td>70.0</td>\n",
       "      <td>70.0</td>\n",
       "      <td>69.0</td>\n",
       "      <td>NaN</td>\n",
       "      <td>NaN</td>\n",
       "    </tr>\n",
       "    <tr>\n",
       "      <th>Óscar Salvador Vera Anguiano</th>\n",
       "      <td>63</td>\n",
       "      <td>65.0</td>\n",
       "      <td>NaN</td>\n",
       "      <td>66.0</td>\n",
       "      <td>NaN</td>\n",
       "      <td>NaN</td>\n",
       "    </tr>\n",
       "    <tr>\n",
       "      <th>Óscar Sebastián García Carmona</th>\n",
       "      <td>59</td>\n",
       "      <td>NaN</td>\n",
       "      <td>NaN</td>\n",
       "      <td>NaN</td>\n",
       "      <td>NaN</td>\n",
       "      <td>NaN</td>\n",
       "    </tr>\n",
       "    <tr>\n",
       "      <th>Óscar Yaroslav Mascorro Ábrego</th>\n",
       "      <td>65</td>\n",
       "      <td>NaN</td>\n",
       "      <td>NaN</td>\n",
       "      <td>NaN</td>\n",
       "      <td>NaN</td>\n",
       "      <td>NaN</td>\n",
       "    </tr>\n",
       "  </tbody>\n",
       "</table>\n",
       "<p>414 rows × 6 columns</p>\n",
       "</div>"
      ],
      "text/plain": [
       "                                 overall    16    17    18    19    20\n",
       "long_name                                                             \n",
       "Aarón Fernández                       61  62.0  61.0  65.0   NaN   NaN\n",
       "Aarón Galindo Rubio                   67  69.0  70.0   NaN   NaN   NaN\n",
       "Abraham Darío Carreño Rohan           65  66.0   NaN   NaN   NaN   NaN\n",
       "Adrian Marín                          62  62.0  63.0   NaN   NaN   NaN\n",
       "Adrián Alexei Aldrete Rodríguez       67  70.0  70.0  69.0  69.0  70.0\n",
       "...                                  ...   ...   ...   ...   ...   ...\n",
       "Óscar Pérez Rojas                     69  70.0  71.0  71.0  71.0   NaN\n",
       "Óscar Ricardo Rojas García            63  70.0  70.0  69.0   NaN   NaN\n",
       "Óscar Salvador Vera Anguiano          63  65.0   NaN  66.0   NaN   NaN\n",
       "Óscar Sebastián García Carmona        59   NaN   NaN   NaN   NaN   NaN\n",
       "Óscar Yaroslav Mascorro Ábrego        65   NaN   NaN   NaN   NaN   NaN\n",
       "\n",
       "[414 rows x 6 columns]"
      ]
     },
     "execution_count": 57,
     "metadata": {},
     "output_type": "execute_result"
    }
   ],
   "source": [
    " df_jugador"
   ]
  },
  {
   "cell_type": "code",
   "execution_count": 58,
   "id": "054ea11a",
   "metadata": {
    "scrolled": true
   },
   "outputs": [
    {
     "data": {
      "text/html": [
       "<div>\n",
       "<style scoped>\n",
       "    .dataframe tbody tr th:only-of-type {\n",
       "        vertical-align: middle;\n",
       "    }\n",
       "\n",
       "    .dataframe tbody tr th {\n",
       "        vertical-align: top;\n",
       "    }\n",
       "\n",
       "    .dataframe thead th {\n",
       "        text-align: right;\n",
       "    }\n",
       "</style>\n",
       "<table border=\"1\" class=\"dataframe\">\n",
       "  <thead>\n",
       "    <tr style=\"text-align: right;\">\n",
       "      <th></th>\n",
       "      <th>overall</th>\n",
       "      <th>16</th>\n",
       "      <th>17</th>\n",
       "      <th>18</th>\n",
       "      <th>19</th>\n",
       "      <th>20</th>\n",
       "    </tr>\n",
       "    <tr>\n",
       "      <th>long_name</th>\n",
       "      <th></th>\n",
       "      <th></th>\n",
       "      <th></th>\n",
       "      <th></th>\n",
       "      <th></th>\n",
       "      <th></th>\n",
       "    </tr>\n",
       "  </thead>\n",
       "  <tbody>\n",
       "    <tr>\n",
       "      <th>Adrián Alexei Aldrete Rodríguez</th>\n",
       "      <td>67</td>\n",
       "      <td>70.0</td>\n",
       "      <td>70.0</td>\n",
       "      <td>69.0</td>\n",
       "      <td>69.0</td>\n",
       "      <td>70.0</td>\n",
       "    </tr>\n",
       "    <tr>\n",
       "      <th>Alan Omar Mendoza López</th>\n",
       "      <td>58</td>\n",
       "      <td>NaN</td>\n",
       "      <td>NaN</td>\n",
       "      <td>68.0</td>\n",
       "      <td>67.0</td>\n",
       "      <td>67.0</td>\n",
       "    </tr>\n",
       "    <tr>\n",
       "      <th>Alberto Joshimar Acosta Alvarado</th>\n",
       "      <td>64</td>\n",
       "      <td>65.0</td>\n",
       "      <td>66.0</td>\n",
       "      <td>65.0</td>\n",
       "      <td>66.0</td>\n",
       "      <td>66.0</td>\n",
       "    </tr>\n",
       "    <tr>\n",
       "      <th>Aldo Rocha</th>\n",
       "      <td>60</td>\n",
       "      <td>62.0</td>\n",
       "      <td>67.0</td>\n",
       "      <td>70.0</td>\n",
       "      <td>70.0</td>\n",
       "      <td>70.0</td>\n",
       "    </tr>\n",
       "    <tr>\n",
       "      <th>Alfonso Blanco Antúnez</th>\n",
       "      <td>64</td>\n",
       "      <td>65.0</td>\n",
       "      <td>66.0</td>\n",
       "      <td>66.0</td>\n",
       "      <td>69.0</td>\n",
       "      <td>69.0</td>\n",
       "    </tr>\n",
       "    <tr>\n",
       "      <th>...</th>\n",
       "      <td>...</td>\n",
       "      <td>...</td>\n",
       "      <td>...</td>\n",
       "      <td>...</td>\n",
       "      <td>...</td>\n",
       "      <td>...</td>\n",
       "    </tr>\n",
       "    <tr>\n",
       "      <th>Yosgart Ernesto Gutiérrez Serna</th>\n",
       "      <td>61</td>\n",
       "      <td>62.0</td>\n",
       "      <td>63.0</td>\n",
       "      <td>61.0</td>\n",
       "      <td>61.0</td>\n",
       "      <td>63.0</td>\n",
       "    </tr>\n",
       "    <tr>\n",
       "      <th>Ángel Baltazar Sepúlveda Sánchez</th>\n",
       "      <td>63</td>\n",
       "      <td>68.0</td>\n",
       "      <td>69.0</td>\n",
       "      <td>70.0</td>\n",
       "      <td>69.0</td>\n",
       "      <td>70.0</td>\n",
       "    </tr>\n",
       "    <tr>\n",
       "      <th>Ángel Eduardo Reyna Martínez</th>\n",
       "      <td>71</td>\n",
       "      <td>70.0</td>\n",
       "      <td>NaN</td>\n",
       "      <td>NaN</td>\n",
       "      <td>NaN</td>\n",
       "      <td>68.0</td>\n",
       "    </tr>\n",
       "    <tr>\n",
       "      <th>Ángel Zaldívar Caviedes</th>\n",
       "      <td>59</td>\n",
       "      <td>59.0</td>\n",
       "      <td>70.0</td>\n",
       "      <td>72.0</td>\n",
       "      <td>71.0</td>\n",
       "      <td>71.0</td>\n",
       "    </tr>\n",
       "    <tr>\n",
       "      <th>Óscar Antonio Bernal López</th>\n",
       "      <td>55</td>\n",
       "      <td>60.0</td>\n",
       "      <td>NaN</td>\n",
       "      <td>NaN</td>\n",
       "      <td>62.0</td>\n",
       "      <td>63.0</td>\n",
       "    </tr>\n",
       "  </tbody>\n",
       "</table>\n",
       "<p>140 rows × 6 columns</p>\n",
       "</div>"
      ],
      "text/plain": [
       "                                  overall    16    17    18    19    20\n",
       "long_name                                                              \n",
       "Adrián Alexei Aldrete Rodríguez        67  70.0  70.0  69.0  69.0  70.0\n",
       "Alan Omar Mendoza López                58   NaN   NaN  68.0  67.0  67.0\n",
       "Alberto Joshimar Acosta Alvarado       64  65.0  66.0  65.0  66.0  66.0\n",
       "Aldo Rocha                             60  62.0  67.0  70.0  70.0  70.0\n",
       "Alfonso Blanco Antúnez                 64  65.0  66.0  66.0  69.0  69.0\n",
       "...                                   ...   ...   ...   ...   ...   ...\n",
       "Yosgart Ernesto Gutiérrez Serna        61  62.0  63.0  61.0  61.0  63.0\n",
       "Ángel Baltazar Sepúlveda Sánchez       63  68.0  69.0  70.0  69.0  70.0\n",
       "Ángel Eduardo Reyna Martínez           71  70.0   NaN   NaN   NaN  68.0\n",
       "Ángel Zaldívar Caviedes                59  59.0  70.0  72.0  71.0  71.0\n",
       "Óscar Antonio Bernal López             55  60.0   NaN   NaN  62.0  63.0\n",
       "\n",
       "[140 rows x 6 columns]"
      ]
     },
     "execution_count": 58,
     "metadata": {},
     "output_type": "execute_result"
    }
   ],
   "source": [
    "xfiltro_mx =   df_jugador[ df_jugador[\"20\"] < 100]\n",
    "xfiltro_mx"
   ]
  },
  {
   "cell_type": "code",
   "execution_count": 59,
   "id": "2d6a9df2",
   "metadata": {
    "scrolled": true
   },
   "outputs": [
    {
     "data": {
      "text/html": [
       "<div>\n",
       "<style scoped>\n",
       "    .dataframe tbody tr th:only-of-type {\n",
       "        vertical-align: middle;\n",
       "    }\n",
       "\n",
       "    .dataframe tbody tr th {\n",
       "        vertical-align: top;\n",
       "    }\n",
       "\n",
       "    .dataframe thead th {\n",
       "        text-align: right;\n",
       "    }\n",
       "</style>\n",
       "<table border=\"1\" class=\"dataframe\">\n",
       "  <thead>\n",
       "    <tr style=\"text-align: right;\">\n",
       "      <th></th>\n",
       "      <th>overall</th>\n",
       "      <th>16</th>\n",
       "      <th>17</th>\n",
       "      <th>18</th>\n",
       "      <th>19</th>\n",
       "      <th>20</th>\n",
       "    </tr>\n",
       "    <tr>\n",
       "      <th>long_name</th>\n",
       "      <th></th>\n",
       "      <th></th>\n",
       "      <th></th>\n",
       "      <th></th>\n",
       "      <th></th>\n",
       "      <th></th>\n",
       "    </tr>\n",
       "  </thead>\n",
       "  <tbody>\n",
       "    <tr>\n",
       "      <th>Hirving Rodrigo Lozano Bahena</th>\n",
       "      <td>70</td>\n",
       "      <td>74.0</td>\n",
       "      <td>76.0</td>\n",
       "      <td>78.0</td>\n",
       "      <td>80.0</td>\n",
       "      <td>82.0</td>\n",
       "    </tr>\n",
       "    <tr>\n",
       "      <th>Héctor Miguel Herrera López</th>\n",
       "      <td>76</td>\n",
       "      <td>77.0</td>\n",
       "      <td>80.0</td>\n",
       "      <td>79.0</td>\n",
       "      <td>81.0</td>\n",
       "      <td>82.0</td>\n",
       "    </tr>\n",
       "    <tr>\n",
       "      <th>Jesús Corona</th>\n",
       "      <td>69</td>\n",
       "      <td>NaN</td>\n",
       "      <td>80.0</td>\n",
       "      <td>81.0</td>\n",
       "      <td>81.0</td>\n",
       "      <td>81.0</td>\n",
       "    </tr>\n",
       "    <tr>\n",
       "      <th>José Andrés Guardado Hernández</th>\n",
       "      <td>76</td>\n",
       "      <td>80.0</td>\n",
       "      <td>82.0</td>\n",
       "      <td>80.0</td>\n",
       "      <td>NaN</td>\n",
       "      <td>81.0</td>\n",
       "    </tr>\n",
       "  </tbody>\n",
       "</table>\n",
       "</div>"
      ],
      "text/plain": [
       "                                overall    16    17    18    19    20\n",
       "long_name                                                            \n",
       "Hirving Rodrigo Lozano Bahena        70  74.0  76.0  78.0  80.0  82.0\n",
       "Héctor Miguel Herrera López          76  77.0  80.0  79.0  81.0  82.0\n",
       "Jesús Corona                         69   NaN  80.0  81.0  81.0  81.0\n",
       "José Andrés Guardado Hernández       76  80.0  82.0  80.0   NaN  81.0"
      ]
     },
     "execution_count": 59,
     "metadata": {},
     "output_type": "execute_result"
    }
   ],
   "source": [
    "mejor_mx =  xfiltro_mx[xfiltro_mx[\"20\"] >80]\n",
    "mejor_mx"
   ]
  },
  {
   "cell_type": "code",
   "execution_count": null,
   "id": "f3140881",
   "metadata": {},
   "outputs": [],
   "source": []
  },
  {
   "cell_type": "code",
   "execution_count": null,
   "id": "decece7e",
   "metadata": {},
   "outputs": [],
   "source": []
  },
  {
   "cell_type": "code",
   "execution_count": null,
   "id": "6bcba014",
   "metadata": {},
   "outputs": [],
   "source": []
  },
  {
   "cell_type": "code",
   "execution_count": null,
   "id": "fb1bdaaf",
   "metadata": {},
   "outputs": [],
   "source": []
  }
 ],
 "metadata": {
  "celltoolbar": "Raw Cell Format",
  "kernelspec": {
   "display_name": "Python 3",
   "language": "python",
   "name": "python3"
  },
  "language_info": {
   "codemirror_mode": {
    "name": "ipython",
    "version": 3
   },
   "file_extension": ".py",
   "mimetype": "text/x-python",
   "name": "python",
   "nbconvert_exporter": "python",
   "pygments_lexer": "ipython3",
   "version": "3.9.1"
  }
 },
 "nbformat": 4,
 "nbformat_minor": 5
}
